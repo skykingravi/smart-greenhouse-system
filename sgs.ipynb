{
 "cells": [
  {
   "cell_type": "code",
   "execution_count": 1,
   "metadata": {},
   "outputs": [],
   "source": [
    "# libraries\n",
    "import pandas as pd\n",
    "from sklearn.model_selection import train_test_split\n",
    "from sklearn.preprocessing import StandardScaler\n",
    "from tensorflow.keras import layers, models\n",
    "import numpy as np"
   ]
  },
  {
   "cell_type": "code",
   "execution_count": 2,
   "metadata": {},
   "outputs": [
    {
     "data": {
      "text/html": [
       "<div>\n",
       "<style scoped>\n",
       "    .dataframe tbody tr th:only-of-type {\n",
       "        vertical-align: middle;\n",
       "    }\n",
       "\n",
       "    .dataframe tbody tr th {\n",
       "        vertical-align: top;\n",
       "    }\n",
       "\n",
       "    .dataframe thead th {\n",
       "        text-align: right;\n",
       "    }\n",
       "</style>\n",
       "<table border=\"1\" class=\"dataframe\">\n",
       "  <thead>\n",
       "    <tr style=\"text-align: right;\">\n",
       "      <th></th>\n",
       "      <th>temperature</th>\n",
       "      <th>humidity</th>\n",
       "      <th>light</th>\n",
       "      <th>moisture</th>\n",
       "      <th>health</th>\n",
       "    </tr>\n",
       "  </thead>\n",
       "  <tbody>\n",
       "    <tr>\n",
       "      <th>0</th>\n",
       "      <td>27</td>\n",
       "      <td>60</td>\n",
       "      <td>10</td>\n",
       "      <td>70</td>\n",
       "      <td>excellent</td>\n",
       "    </tr>\n",
       "    <tr>\n",
       "      <th>1</th>\n",
       "      <td>26</td>\n",
       "      <td>69</td>\n",
       "      <td>9</td>\n",
       "      <td>61</td>\n",
       "      <td>excellent</td>\n",
       "    </tr>\n",
       "    <tr>\n",
       "      <th>2</th>\n",
       "      <td>23</td>\n",
       "      <td>70</td>\n",
       "      <td>8</td>\n",
       "      <td>67</td>\n",
       "      <td>excellent</td>\n",
       "    </tr>\n",
       "    <tr>\n",
       "      <th>3</th>\n",
       "      <td>26</td>\n",
       "      <td>66</td>\n",
       "      <td>9</td>\n",
       "      <td>70</td>\n",
       "      <td>excellent</td>\n",
       "    </tr>\n",
       "    <tr>\n",
       "      <th>4</th>\n",
       "      <td>24</td>\n",
       "      <td>68</td>\n",
       "      <td>10</td>\n",
       "      <td>68</td>\n",
       "      <td>excellent</td>\n",
       "    </tr>\n",
       "  </tbody>\n",
       "</table>\n",
       "</div>"
      ],
      "text/plain": [
       "   temperature  humidity  light  moisture     health\n",
       "0           27        60     10        70  excellent\n",
       "1           26        69      9        61  excellent\n",
       "2           23        70      8        67  excellent\n",
       "3           26        66      9        70  excellent\n",
       "4           24        68     10        68  excellent"
      ]
     },
     "execution_count": 2,
     "metadata": {},
     "output_type": "execute_result"
    }
   ],
   "source": [
    "# load the dataset\n",
    "data = pd.read_csv(\"/Users/ravi/Documents/sgs/sgs_dataset.csv\")\n",
    "data.head()"
   ]
  },
  {
   "cell_type": "code",
   "execution_count": 3,
   "metadata": {},
   "outputs": [
    {
     "name": "stdout",
     "output_type": "stream",
     "text": [
      "Index(['excellent', 'good', 'fair', 'poor', 'critical'], dtype='object')\n"
     ]
    }
   ],
   "source": [
    "# encode the target variable and save the corresponding labels\n",
    "data[\"health\"], LABELS = pd.factorize(data[\"health\"])\n",
    "print(LABELS)"
   ]
  },
  {
   "cell_type": "code",
   "execution_count": 4,
   "metadata": {},
   "outputs": [
    {
     "name": "stdout",
     "output_type": "stream",
     "text": [
      "(1000, 4) (1000,)\n"
     ]
    }
   ],
   "source": [
    "# separate features and target variable\n",
    "X = data[[\"temperature\", \"humidity\", \"light\", \"moisture\"]]\n",
    "y = data[\"health\"]\n",
    "print(X.shape, y.shape)"
   ]
  },
  {
   "cell_type": "code",
   "execution_count": 5,
   "metadata": {},
   "outputs": [],
   "source": [
    "# split the dataset into training and test sets\n",
    "X_train, X_test, y_train, y_test = train_test_split(X, y, test_size=0.2, random_state=42)"
   ]
  },
  {
   "cell_type": "code",
   "execution_count": 6,
   "metadata": {},
   "outputs": [],
   "source": [
    "# normalization\n",
    "scaler = StandardScaler()\n",
    "X_train = scaler.fit_transform(X_train)\n",
    "X_test = scaler.transform(X_test)"
   ]
  },
  {
   "cell_type": "code",
   "execution_count": 7,
   "metadata": {},
   "outputs": [
    {
     "name": "stdout",
     "output_type": "stream",
     "text": [
      "Model: \"sequential\"\n",
      "_________________________________________________________________\n",
      " Layer (type)                Output Shape              Param #   \n",
      "=================================================================\n",
      " dense (Dense)               (None, 64)                320       \n",
      "                                                                 \n",
      " dense_1 (Dense)             (None, 32)                2080      \n",
      "                                                                 \n",
      " dense_2 (Dense)             (None, 5)                 165       \n",
      "                                                                 \n",
      "=================================================================\n",
      "Total params: 2565 (10.02 KB)\n",
      "Trainable params: 2565 (10.02 KB)\n",
      "Non-trainable params: 0 (0.00 Byte)\n",
      "_________________________________________________________________\n"
     ]
    }
   ],
   "source": [
    "# ann model\n",
    "model = models.Sequential()\n",
    "model.add(layers.Dense(64, activation='relu', input_shape=(X_train.shape[1],))),\n",
    "model.add(layers.Dense(32, activation='relu'))\n",
    "model.add(layers.Dense(5, activation='softmax'))\n",
    "\n",
    "model.summary()"
   ]
  },
  {
   "cell_type": "code",
   "execution_count": 8,
   "metadata": {},
   "outputs": [],
   "source": [
    "# compile the model\n",
    "model.compile(optimizer='adam', loss='sparse_categorical_crossentropy', metrics=['accuracy'])"
   ]
  },
  {
   "cell_type": "code",
   "execution_count": 9,
   "metadata": {},
   "outputs": [
    {
     "name": "stdout",
     "output_type": "stream",
     "text": [
      "Epoch 1/50\n",
      "20/20 [==============================] - 0s 6ms/step - loss: 1.5009 - accuracy: 0.2891 - val_loss: 1.4700 - val_accuracy: 0.2937\n",
      "Epoch 2/50\n",
      "20/20 [==============================] - 0s 1ms/step - loss: 1.3369 - accuracy: 0.4047 - val_loss: 1.3518 - val_accuracy: 0.4000\n",
      "Epoch 3/50\n",
      "20/20 [==============================] - 0s 1ms/step - loss: 1.2015 - accuracy: 0.5359 - val_loss: 1.2227 - val_accuracy: 0.5375\n",
      "Epoch 4/50\n",
      "20/20 [==============================] - 0s 1ms/step - loss: 1.0704 - accuracy: 0.6672 - val_loss: 1.0865 - val_accuracy: 0.6250\n",
      "Epoch 5/50\n",
      "20/20 [==============================] - 0s 1ms/step - loss: 0.9342 - accuracy: 0.6906 - val_loss: 0.9448 - val_accuracy: 0.6062\n",
      "Epoch 6/50\n",
      "20/20 [==============================] - 0s 1ms/step - loss: 0.7978 - accuracy: 0.7219 - val_loss: 0.8091 - val_accuracy: 0.6562\n",
      "Epoch 7/50\n",
      "20/20 [==============================] - 0s 1ms/step - loss: 0.6854 - accuracy: 0.7812 - val_loss: 0.7050 - val_accuracy: 0.7375\n",
      "Epoch 8/50\n",
      "20/20 [==============================] - 0s 1ms/step - loss: 0.5973 - accuracy: 0.8156 - val_loss: 0.6261 - val_accuracy: 0.7875\n",
      "Epoch 9/50\n",
      "20/20 [==============================] - 0s 1ms/step - loss: 0.5317 - accuracy: 0.8344 - val_loss: 0.5658 - val_accuracy: 0.8062\n",
      "Epoch 10/50\n",
      "20/20 [==============================] - 0s 1ms/step - loss: 0.4805 - accuracy: 0.8344 - val_loss: 0.5131 - val_accuracy: 0.8438\n",
      "Epoch 11/50\n",
      "20/20 [==============================] - 0s 1ms/step - loss: 0.4420 - accuracy: 0.8391 - val_loss: 0.4753 - val_accuracy: 0.8562\n",
      "Epoch 12/50\n",
      "20/20 [==============================] - 0s 1ms/step - loss: 0.4100 - accuracy: 0.8578 - val_loss: 0.4428 - val_accuracy: 0.8500\n",
      "Epoch 13/50\n",
      "20/20 [==============================] - 0s 1ms/step - loss: 0.3843 - accuracy: 0.8719 - val_loss: 0.4213 - val_accuracy: 0.8625\n",
      "Epoch 14/50\n",
      "20/20 [==============================] - 0s 1ms/step - loss: 0.3633 - accuracy: 0.8672 - val_loss: 0.3949 - val_accuracy: 0.8750\n",
      "Epoch 15/50\n",
      "20/20 [==============================] - 0s 1ms/step - loss: 0.3444 - accuracy: 0.8750 - val_loss: 0.3727 - val_accuracy: 0.8687\n",
      "Epoch 16/50\n",
      "20/20 [==============================] - 0s 2ms/step - loss: 0.3289 - accuracy: 0.8828 - val_loss: 0.3567 - val_accuracy: 0.8813\n",
      "Epoch 17/50\n",
      "20/20 [==============================] - 0s 1ms/step - loss: 0.3133 - accuracy: 0.8922 - val_loss: 0.3397 - val_accuracy: 0.8813\n",
      "Epoch 18/50\n",
      "20/20 [==============================] - 0s 1ms/step - loss: 0.2996 - accuracy: 0.9000 - val_loss: 0.3320 - val_accuracy: 0.8750\n",
      "Epoch 19/50\n",
      "20/20 [==============================] - 0s 1ms/step - loss: 0.2883 - accuracy: 0.9016 - val_loss: 0.3129 - val_accuracy: 0.8750\n",
      "Epoch 20/50\n",
      "20/20 [==============================] - 0s 1ms/step - loss: 0.2805 - accuracy: 0.9109 - val_loss: 0.3026 - val_accuracy: 0.8813\n",
      "Epoch 21/50\n",
      "20/20 [==============================] - 0s 1ms/step - loss: 0.2743 - accuracy: 0.8953 - val_loss: 0.2912 - val_accuracy: 0.8938\n",
      "Epoch 22/50\n",
      "20/20 [==============================] - 0s 1ms/step - loss: 0.2651 - accuracy: 0.9219 - val_loss: 0.2858 - val_accuracy: 0.8813\n",
      "Epoch 23/50\n",
      "20/20 [==============================] - 0s 1ms/step - loss: 0.2545 - accuracy: 0.9203 - val_loss: 0.2788 - val_accuracy: 0.8750\n",
      "Epoch 24/50\n",
      "20/20 [==============================] - 0s 1ms/step - loss: 0.2469 - accuracy: 0.9281 - val_loss: 0.2667 - val_accuracy: 0.8938\n",
      "Epoch 25/50\n",
      "20/20 [==============================] - 0s 1ms/step - loss: 0.2409 - accuracy: 0.9156 - val_loss: 0.2568 - val_accuracy: 0.8813\n",
      "Epoch 26/50\n",
      "20/20 [==============================] - 0s 1ms/step - loss: 0.2352 - accuracy: 0.9219 - val_loss: 0.2511 - val_accuracy: 0.8875\n",
      "Epoch 27/50\n",
      "20/20 [==============================] - 0s 1ms/step - loss: 0.2295 - accuracy: 0.9359 - val_loss: 0.2466 - val_accuracy: 0.9187\n",
      "Epoch 28/50\n",
      "20/20 [==============================] - 0s 1ms/step - loss: 0.2229 - accuracy: 0.9266 - val_loss: 0.2420 - val_accuracy: 0.8875\n",
      "Epoch 29/50\n",
      "20/20 [==============================] - 0s 1ms/step - loss: 0.2197 - accuracy: 0.9234 - val_loss: 0.2302 - val_accuracy: 0.9250\n",
      "Epoch 30/50\n",
      "20/20 [==============================] - 0s 1ms/step - loss: 0.2137 - accuracy: 0.9344 - val_loss: 0.2347 - val_accuracy: 0.9187\n",
      "Epoch 31/50\n",
      "20/20 [==============================] - 0s 1ms/step - loss: 0.2120 - accuracy: 0.9328 - val_loss: 0.2317 - val_accuracy: 0.9187\n",
      "Epoch 32/50\n",
      "20/20 [==============================] - 0s 1ms/step - loss: 0.2120 - accuracy: 0.9328 - val_loss: 0.2252 - val_accuracy: 0.9312\n",
      "Epoch 33/50\n",
      "20/20 [==============================] - 0s 1ms/step - loss: 0.2040 - accuracy: 0.9297 - val_loss: 0.2126 - val_accuracy: 0.9375\n",
      "Epoch 34/50\n",
      "20/20 [==============================] - 0s 1ms/step - loss: 0.2056 - accuracy: 0.9297 - val_loss: 0.2216 - val_accuracy: 0.9125\n",
      "Epoch 35/50\n",
      "20/20 [==============================] - 0s 1ms/step - loss: 0.1993 - accuracy: 0.9312 - val_loss: 0.2098 - val_accuracy: 0.9312\n",
      "Epoch 36/50\n",
      "20/20 [==============================] - 0s 1ms/step - loss: 0.1959 - accuracy: 0.9359 - val_loss: 0.2179 - val_accuracy: 0.9187\n",
      "Epoch 37/50\n",
      "20/20 [==============================] - 0s 1ms/step - loss: 0.1925 - accuracy: 0.9359 - val_loss: 0.2037 - val_accuracy: 0.9312\n",
      "Epoch 38/50\n",
      "20/20 [==============================] - 0s 1ms/step - loss: 0.1901 - accuracy: 0.9406 - val_loss: 0.2125 - val_accuracy: 0.9187\n",
      "Epoch 39/50\n",
      "20/20 [==============================] - 0s 1ms/step - loss: 0.1869 - accuracy: 0.9406 - val_loss: 0.1988 - val_accuracy: 0.9375\n",
      "Epoch 40/50\n",
      "20/20 [==============================] - 0s 1ms/step - loss: 0.1853 - accuracy: 0.9406 - val_loss: 0.1948 - val_accuracy: 0.9312\n",
      "Epoch 41/50\n",
      "20/20 [==============================] - 0s 1ms/step - loss: 0.1874 - accuracy: 0.9297 - val_loss: 0.2081 - val_accuracy: 0.9187\n",
      "Epoch 42/50\n",
      "20/20 [==============================] - 0s 1ms/step - loss: 0.1809 - accuracy: 0.9422 - val_loss: 0.1929 - val_accuracy: 0.9312\n",
      "Epoch 43/50\n",
      "20/20 [==============================] - 0s 1ms/step - loss: 0.1790 - accuracy: 0.9391 - val_loss: 0.2016 - val_accuracy: 0.9312\n",
      "Epoch 44/50\n",
      "20/20 [==============================] - 0s 1ms/step - loss: 0.1807 - accuracy: 0.9406 - val_loss: 0.2020 - val_accuracy: 0.9250\n",
      "Epoch 45/50\n",
      "20/20 [==============================] - 0s 1ms/step - loss: 0.1781 - accuracy: 0.9359 - val_loss: 0.1868 - val_accuracy: 0.9312\n",
      "Epoch 46/50\n",
      "20/20 [==============================] - 0s 1ms/step - loss: 0.1749 - accuracy: 0.9375 - val_loss: 0.1838 - val_accuracy: 0.9312\n",
      "Epoch 47/50\n",
      "20/20 [==============================] - 0s 1ms/step - loss: 0.1776 - accuracy: 0.9344 - val_loss: 0.1932 - val_accuracy: 0.9250\n",
      "Epoch 48/50\n",
      "20/20 [==============================] - 0s 1ms/step - loss: 0.1708 - accuracy: 0.9375 - val_loss: 0.1804 - val_accuracy: 0.9312\n",
      "Epoch 49/50\n",
      "20/20 [==============================] - 0s 1ms/step - loss: 0.1693 - accuracy: 0.9422 - val_loss: 0.1888 - val_accuracy: 0.9312\n",
      "Epoch 50/50\n",
      "20/20 [==============================] - 0s 1ms/step - loss: 0.1721 - accuracy: 0.9375 - val_loss: 0.1795 - val_accuracy: 0.9375\n"
     ]
    }
   ],
   "source": [
    "# train the model\n",
    "history = model.fit(X_train, y_train, epochs=50, batch_size=32, validation_split=0.2)"
   ]
  },
  {
   "cell_type": "code",
   "execution_count": 10,
   "metadata": {},
   "outputs": [
    {
     "name": "stdout",
     "output_type": "stream",
     "text": [
      "7/7 [==============================] - 0s 660us/step - loss: 0.2446 - accuracy: 0.9050\n",
      "Test Accuracy: 0.9049999713897705\n"
     ]
    }
   ],
   "source": [
    "# evaluate the model\n",
    "loss, accuracy = model.evaluate(X_test, y_test)\n",
    "print(\"Test Accuracy:\", accuracy)"
   ]
  },
  {
   "cell_type": "code",
   "execution_count": 11,
   "metadata": {},
   "outputs": [],
   "source": [
    "# prediction function\n",
    "def prediction(data):\n",
    "    # normalization\n",
    "    data = scaler.transform(data)\n",
    "    # predict the plant health using the trained model\n",
    "    prediction = model.predict(data)\n",
    "    print(prediction)\n",
    "    predicted_indx = np.argmax(prediction)\n",
    "    predicted_health = LABELS[predicted_indx]\n",
    "    print(\"predicted health:\", predicted_health)"
   ]
  },
  {
   "cell_type": "code",
   "execution_count": 12,
   "metadata": {},
   "outputs": [
    {
     "name": "stdout",
     "output_type": "stream",
     "text": [
      "1/1 [==============================] - 0s 36ms/step\n",
      "[[2.5501559e-04 1.2601856e-05 3.2864655e-08 7.8601383e-13 9.9973232e-01]]\n",
      "predicted health: critical\n"
     ]
    },
    {
     "name": "stderr",
     "output_type": "stream",
     "text": [
      "/opt/homebrew/lib/python3.11/site-packages/sklearn/base.py:465: UserWarning: X does not have valid feature names, but StandardScaler was fitted with feature names\n",
      "  warnings.warn(\n"
     ]
    }
   ],
   "source": [
    "prediction(np.array([[35.17487833718538, 93.85936114072581, 13.171837343260986, 97.17757624341523]]))"
   ]
  },
  {
   "cell_type": "code",
   "execution_count": 13,
   "metadata": {},
   "outputs": [
    {
     "data": {
      "image/png": "[encoded data removed]",
      "text/plain": [
       "<Figure size 1200x600 with 2 Axes>"
      ]
     },
     "metadata": {},
     "output_type": "display_data"
    }
   ],
   "source": [
    "import matplotlib.pyplot as plt\n",
    "\n",
    "# Assuming `history` is the object returned by model.fit()\n",
    "\n",
    "# Plot training & validation accuracy values\n",
    "plt.figure(figsize=(12, 6))\n",
    "plt.subplot(1, 2, 1)\n",
    "plt.plot(history.history['accuracy'])\n",
    "plt.plot(history.history['val_accuracy'])\n",
    "plt.title('Model Accuracy')\n",
    "plt.ylabel('Accuracy')\n",
    "plt.xlabel('Epoch')\n",
    "plt.legend(['Training', 'Testing'], loc='upper left')\n",
    "\n",
    "# Plot training & validation loss values\n",
    "plt.subplot(1, 2, 2)\n",
    "plt.plot(history.history['loss'])\n",
    "plt.plot(history.history['val_loss'])\n",
    "plt.title('Model Loss')\n",
    "plt.ylabel('Loss')\n",
    "plt.xlabel('Epoch')\n",
    "plt.legend(['Training', 'Testing'], loc='upper right')\n",
    "\n",
    "plt.tight_layout()\n",
    "plt.show()"
   ]
  },
  {
   "cell_type": "code",
   "execution_count": 14,
   "metadata": {},
   "outputs": [
    {
     "name": "stdout",
     "output_type": "stream",
     "text": [
      "7/7 [==============================] - 0s 563us/step\n",
      "Confusion Matrix:\n",
      "[[33  0  0  0  0]\n",
      " [ 4 40  4  0  0]\n",
      " [ 0  3 32  2  0]\n",
      " [ 0  0  6 32  0]\n",
      " [ 0  0  0  0 44]]\n"
     ]
    }
   ],
   "source": [
    "from sklearn.metrics import confusion_matrix\n",
    "\n",
    "# Assuming `model` is your trained model and `X_test`, `y_test` are your test data and labels\n",
    "\n",
    "# Get the predicted labels\n",
    "y_pred = model.predict(X_test)\n",
    "y_pred_labels = np.argmax(y_pred, axis=1)\n",
    "\n",
    "# Calculate the confusion matrix\n",
    "conf_matrix = confusion_matrix(y_test, y_pred_labels)\n",
    "\n",
    "print(\"Confusion Matrix:\")\n",
    "print(conf_matrix)"
   ]
  }
 ],
 "metadata": {
  "kernelspec": {
   "display_name": "Python 3",
   "language": "python",
   "name": "python3"
  },
  "language_info": {
   "codemirror_mode": {
    "name": "ipython",
    "version": 3
   },
   "file_extension": ".py",
   "mimetype": "text/x-python",
   "name": "python",
   "nbconvert_exporter": "python",
   "pygments_lexer": "ipython3",
   "version": "3.11.7"
  }
 },
 "nbformat": 4,
 "nbformat_minor": 2
}
